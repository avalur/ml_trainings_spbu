{
  "nbformat": 4,
  "nbformat_minor": 0,
  "metadata": {
    "colab": {
      "name": "cnn_resnet_10_10_2019.ipynb",
      "provenance": [],
      "collapsed_sections": []
    },
    "kernelspec": {
      "name": "python3",
      "display_name": "Python 3"
    }
  },
  "cells": [
    {
      "cell_type": "code",
      "metadata": {
        "id": "RRJg6l3Cik_7",
        "colab_type": "code",
        "colab": {}
      },
      "source": [
        "import torch\n",
        "import torch.nn as nn\n",
        "from torch import *\n",
        "from torch.nn.modules.conv import _ConvNd\n",
        "from IPython.display import Math, HTML\n"
      ],
      "execution_count": 0,
      "outputs": []
    },
    {
      "cell_type": "markdown",
      "metadata": {
        "id": "AJhwk5Eji4UZ",
        "colab_type": "text"
      },
      "source": [
        "Документация\n",
        "https://pytorch.org/docs/stable/nn.html"
      ]
    },
    {
      "cell_type": "markdown",
      "metadata": {
        "id": "1K6DM23GjDMr",
        "colab_type": "text"
      },
      "source": [
        "## Convolutional neural network\n",
        "![alt text](https://i.ibb.co/64h26nG/cnn-example.png)"
      ]
    },
    {
      "cell_type": "markdown",
      "metadata": {
        "id": "m0VtjL0nnHqd",
        "colab_type": "text"
      },
      "source": [
        "# Операция свертки (conv)\n",
        "## Начальное состояние, фильтр\n",
        "![alt text](https://victorzhou.com/media/cnn-post/convolve-example-2.svg)\n",
        "## Применим формулу свертки (пример для одного канала)\n",
        "\n",
        "### $\\sum\\limits_{n,m=0..KS-1} w_{n,m}*x_{n+s,m+s}$\n",
        "### ${n+s \\leq H-1}, {m+s \\leq W-1}$\n",
        "\n",
        "# Результат\n",
        "\n",
        "![alt text](https://victorzhou.com/media/cnn-post/convolve-output-1.svg)"
      ]
    },
    {
      "cell_type": "markdown",
      "metadata": {
        "id": "B-RgZ6hGp0GA",
        "colab_type": "text"
      },
      "source": [
        "## Замечание\n",
        "При реализации свёртки просто матрица на вектор умножается. Например, реализация в cudnn Winograd transformation —https://arxiv.org/pdf/1509.09308.pdf"
      ]
    },
    {
      "cell_type": "markdown",
      "metadata": {
        "id": "93q8cd_PqHN5",
        "colab_type": "text"
      },
      "source": [
        "## Операция свертки с ядром 3х3х3 где 3х3 Weight*Height и 3-Channel numbers\n",
        "![alt text](https://i.stack.imgur.com/CQtHP.gif)"
      ]
    },
    {
      "cell_type": "markdown",
      "metadata": {
        "id": "E7b0h4-IlCJw",
        "colab_type": "text"
      },
      "source": [
        "## Output size calculation\n",
        "\n",
        "* **F**ilter size = 3x3 -> 3\n",
        "* **I**nput size = 5x5 -> 5\n",
        "* **S**tride = 1x1 -> 1\n",
        "* **P**adding = 0x0 -> 0\n",
        "\n",
        "Output size = (I - F + 2*P)/S + 1 = (5 - 3 + 2*0)/1 + 1 = 3\n",
        "\n",
        "Output size = 3 -> 3x3"
      ]
    },
    {
      "cell_type": "markdown",
      "metadata": {
        "id": "p3gOHLlJtFIG",
        "colab_type": "text"
      },
      "source": [
        "![](https://miro.medium.com/max/1600/0*TsOwf6kzkUV8LZBX)"
      ]
    },
    {
      "cell_type": "markdown",
      "metadata": {
        "id": "ejVz9bnFtRQq",
        "colab_type": "text"
      },
      "source": [
        "[About transposed convolutions](https://medium.com/apache-mxnet/transposed-convolutions-explained-with-ms-excel-52d13030c7e8)"
      ]
    },
    {
      "cell_type": "markdown",
      "metadata": {
        "id": "l968bru_tkkS",
        "colab_type": "text"
      },
      "source": [
        "# Инициализация весов фильтра и bias\n",
        "[Техники эволюционируют:](https://towardsdatascience.com/weight-initialization-techniques-in-neural-networks-26c649eb3b78) zero, random, He, Xavier, ...\n",
        "\n",
        "Выбор подходящей зависит от функций активации и архитектуры сети, [paper про RELU](https://arxiv.org/pdf/1704.08863.pdf).\n",
        "\n",
        "## Инициализация фильтра и bias\n",
        "## ${k}={1 \\over C_{in}\\prod\\limits^1_{i=0}kernelsize[i]}$\n",
        "Uniform distribution — равновероятностное появление значений в интервале от а до b, в нашем примере инициализации границы от $ -\\sqrt{k}$ до $\\sqrt{k}$\n",
        "\n",
        "![alt text](http://openturns.github.io/openturns/1.9/_images/openturns-Uniform-1.png)"
      ]
    },
    {
      "cell_type": "code",
      "metadata": {
        "id": "X0DdJipsqSUP",
        "colab_type": "code",
        "colab": {}
      },
      "source": [
        "class Conv2d(_ConvNd):\n",
        "    def __init__(self, in_channels, out_channels, kernel_size, stride=1,\n",
        "                 padding=0, dilation=1, groups=1,\n",
        "                 bias=True, padding_mode='zeros'):\n",
        "        kernel_size = _pair(kernel_size)\n",
        "        stride = _pair(stride)\n",
        "        padding = _pair(padding)\n",
        "        dilation = _pair(dilation)\n",
        "        super(Conv2d, self).__init__(\n",
        "            in_channels, out_channels, kernel_size, stride, padding, dilation,\n",
        "            False, _pair(0), groups, bias, padding_mode)\n",
        "\n",
        "    def conv2d_forward(self, input, weight):\n",
        "        return F.conv2d(input, weight, self.bias, self.stride,\n",
        "                        self.padding, self.dilation, self.groups)\n",
        "\n",
        "    def forward(self, input):\n",
        "        return self.conv2d_forward(input, self.weight)"
      ],
      "execution_count": 0,
      "outputs": []
    },
    {
      "cell_type": "markdown",
      "metadata": {
        "id": "Q4QP5ArsU_KV",
        "colab_type": "text"
      },
      "source": [
        "## Параметры\n",
        "in_channels — количество каналов (на старте 3 - R,G,B)\n",
        "\n",
        "out_channels — количество feature matrix (результат) на выходе, при этом каждый из результатов достигается фильтром kernel_size*in_channels\n",
        "\n",
        "stride — параметр сдвига фильтра, так как мы используем 2dConvlayer направлений всего 2,стандартное значение 1\n",
        "\n",
        "padding — на анимации выше\n",
        "   \n",
        "dilation — прореживание, при значении 1 не происходит\n",
        "\n",
        "groups — разделение изображения на n-частей и применение набора фильтров для каждой части в отдельности с последующим конкатенированием до единой feature matrix\n",
        "\n",
        "Метод _pair гененирит turple-кортеж, при инициализации параметров скаляром(x) возвращает обьект повторенный 2 раза — (x,x) (пример: in:kernel_size=1 out: kernel_size(1,1)), при явной инициализации(x,x) возвращает (x,x)"
      ]
    },
    {
      "cell_type": "code",
      "metadata": {
        "id": "YRv5cOfrV3Ic",
        "colab_type": "code",
        "colab": {}
      },
      "source": [
        "def conv3x3(in_planes, out_planes, stride=1, groups=1, dilation=1):\n",
        "    \"\"\"3x3 convolution with padding\"\"\"\n",
        "    return nn.Conv2d(in_planes, out_planes, kernel_size=3, stride=stride,\n",
        "                     padding=dilation, groups=groups, bias=False, dilation=dilation)\n"
      ],
      "execution_count": 0,
      "outputs": []
    },
    {
      "cell_type": "code",
      "metadata": {
        "id": "Lufh-Bp3V7UO",
        "colab_type": "code",
        "colab": {}
      },
      "source": [
        "def conv1x1(in_planes, out_planes, stride=1):\n",
        "    \"\"\"1x1 convolution\"\"\"\n",
        "    return nn.Conv2d(in_planes, out_planes, kernel_size=1, stride=stride, bias=False)"
      ],
      "execution_count": 0,
      "outputs": []
    },
    {
      "cell_type": "markdown",
      "metadata": {
        "id": "qpx9CWd7WNxJ",
        "colab_type": "text"
      },
      "source": [
        "## ResNet - Kaiming He, Xiangyu Zhang ,Shaoqing Ren ,Jian Sun,(Microsoft Research,2015)\n",
        "link:https://arxiv.org/pdf/1512.03385.pdf\n",
        "![alt text](https://missinglink.ai/wp-content/uploads/2019/04/image1.png)\n",
        "## Network structure \n",
        "![alt text](https://www.researchgate.net/profile/Seunghyoung_Ryu/publication/329954455/figure/fig1/AS:725290594623488@1549934161033/The-structure-of-ResNet-12.png)"
      ]
    },
    {
      "cell_type": "markdown",
      "metadata": {
        "id": "gkCaBfxCWZib",
        "colab_type": "text"
      },
      "source": [
        "## Basic block and Bottleneck block\n",
        "![alt text](https://miro.medium.com/max/1980/1*j_lC2gsO1Kbia8PIQGHUZg.png)\n",
        "![alt text](https://sun9-39.userapi.com/c858532/v858532493/1bb7/gKfLFz5MJXo.jpg)\n",
        "![alt text](https://miro.medium.com/max/800/1*FqmD91PvbH7NKCnQWFJxvg.png)\n"
      ]
    },
    {
      "cell_type": "markdown",
      "metadata": {
        "id": "Q-CYYRjsWlGf",
        "colab_type": "text"
      },
      "source": [
        "## Основные проблемы сетей, предшествующих ResNet\n",
        "### 1.Рост количества слоев не давал необходимого улучшения. \n",
        "### 2.Vanishing Gradient problem \n",
        "![alt text](https://miro.medium.com/max/2192/1*6A3A_rt4YmumHusvTvVTxw.png)\n",
        "Так как в процессе backprop мы считаем произведения частных производных по параметрам с конца до начала сети, для сетей с большим количеством слоев мы сталкиваемся с проблемой очень низкого изменения параметров на последних слоях.\n",
        "\n",
        "Картинка выше демонстрирует что чем больше наш выход от сигмоидной активации, тем производная ближе он к нулю. В результате мы получаем слишком маленькое значение градиента, а стандартный градиентный шаг 1e^-3:1e^-5 делает значение градиентного шага критически малым для изменения параметров.\n",
        "\n",
        "## Придуманные решения\n",
        "### 1.ReLU \n",
        "\n",
        "### 2.BatchNorm \n",
        "\n",
        "### 3.Resudial connections\n",
        "Resudial connections основаны на идее прибавления input к результату прямого прохода через блок с дальнешим применением функции активации\n",
        "\n",
        "Мы прибавляем к основному выходу от функции активации — F(x)=ReLU(W*x+b) так называемую identity function где F(x)=x, тем самым получаем F(x)+x\n",
        "\n",
        "Основное преимущество данного подхода — если мы сталкиваемся с проблемой vanishing gradient или же мы уже получили достаточно хороший результат на предыдущем слое, то в таком случае приравняв F(x)=0 при активации ReLU мы будем получать одинаковый результат с n до k слоя так как ReLU = max(0,x) \n",
        "\n",
        "Пример вычислений приведен ниже\n",
        "![alt text](https://miro.medium.com/max/960/1*0n8hSERRje182FEY61rPHQ.jpeg)\n"
      ]
    },
    {
      "cell_type": "code",
      "metadata": {
        "id": "bQyLVwrEFmsr",
        "colab_type": "code",
        "colab": {}
      },
      "source": [
        "class BasicBlock(nn.Module):\n",
        "    expansion = 1\n",
        "    __constants__ = ['downsample']\n",
        "\n",
        "    def __init__(self, inplanes, planes, stride=1, downsample=None, groups=1,\n",
        "                 base_width=64, dilation=1, norm_layer=None):\n",
        "        super(BasicBlock, self).__init__()\n",
        "        if norm_layer is None:\n",
        "            norm_layer = nn.BatchNorm2d\n",
        "        if groups != 1 or base_width != 64:\n",
        "            raise ValueError('BasicBlock only supports groups=1 and base_width=64')\n",
        "        if dilation > 1:\n",
        "            raise NotImplementedError(\"Dilation > 1 not supported in BasicBlock\")\n",
        "        # Both self.conv1 and self.downsample layers downsample the input when stride != 1\n",
        "        self.conv1 = conv3x3(inplanes, planes, stride)\n",
        "        self.bn1 = norm_layer(planes)\n",
        "        self.relu = nn.ReLU(inplace=True)\n",
        "        self.conv2 = conv3x3(planes, planes)\n",
        "        self.bn2 = norm_layer(planes)\n",
        "        self.downsample = downsample\n",
        "        self.stride = stride\n",
        "\n",
        "    def forward(self, x):\n",
        "        identity = x\n",
        "\n",
        "        out = self.conv1(x)\n",
        "        out = self.bn1(out)\n",
        "        out = self.relu(out)\n",
        "\n",
        "        out = self.conv2(out)\n",
        "        out = self.bn2(out)\n",
        "\n",
        "        if self.downsample is not None:\n",
        "            identity = self.downsample(x)\n",
        "\n",
        "        out += identity\n",
        "        out = self.relu(out)\n",
        "\n",
        "        return out"
      ],
      "execution_count": 0,
      "outputs": []
    },
    {
      "cell_type": "markdown",
      "metadata": {
        "id": "o2nqN2_dYXcB",
        "colab_type": "text"
      },
      "source": [
        "Downsample — в случае когда мы имеем на входе матрицу 64х64 (обозначим x), а на выходе F(x) - 32x32 для подсчета ReLU(F(x)+x) нам необходимо соблюсти shape матрицы. В этом случае мы используем downsample"
      ]
    },
    {
      "cell_type": "code",
      "metadata": {
        "id": "cNazq9xlYsd9",
        "colab_type": "code",
        "colab": {}
      },
      "source": [
        "class Bottleneck(nn.Module):\n",
        "    expansion = 4\n",
        "    __constants__ = ['downsample']\n",
        "\n",
        "    def __init__(self, inplanes, planes, stride=1, downsample=None, groups=1,\n",
        "                 base_width=64, dilation=1, norm_layer=None):\n",
        "        super(Bottleneck, self).__init__()\n",
        "        if norm_layer is None:\n",
        "            norm_layer = nn.BatchNorm2d\n",
        "        width = int(planes * (base_width / 64.)) * groups\n",
        "        # Both self.conv2 and self.downsample layers downsample the input when stride != 1\n",
        "        self.conv1 = conv1x1(inplanes, width)\n",
        "        self.bn1 = norm_layer(width)\n",
        "        self.conv2 = conv3x3(width, width, stride, groups, dilation)\n",
        "        self.bn2 = norm_layer(width)\n",
        "        self.conv3 = conv1x1(width, planes * self.expansion)\n",
        "        self.bn3 = norm_layer(planes * self.expansion)\n",
        "        self.relu = nn.ReLU(inplace=True)\n",
        "        self.downsample = downsample\n",
        "        self.stride = stride\n",
        "        \n",
        "    def forward(self, x):\n",
        "        identity = x\n",
        "\n",
        "        out = self.conv1(x)\n",
        "        out = self.bn1(out)\n",
        "        out = self.relu(out)\n",
        "\n",
        "        out = self.conv2(out)\n",
        "        out = self.bn2(out)\n",
        "        out = self.relu(out)\n",
        "\n",
        "        out = self.conv3(out)\n",
        "        out = self.bn3(out)\n",
        "\n",
        "        if self.downsample is not None:\n",
        "            identity = self.downsample(x)\n",
        "\n",
        "        out += identity\n",
        "        out = self.relu(out)\n",
        "\n",
        "        return out"
      ],
      "execution_count": 0,
      "outputs": []
    },
    {
      "cell_type": "markdown",
      "metadata": {
        "id": "Rseo_LSqY0oB",
        "colab_type": "text"
      },
      "source": [
        "# Class «из ResNet»\n",
        "Данный класс отнаследован, можно ещё через метод _make_layer\n",
        "\n",
        "В параметры данного метода мы должны передать блок (Basic, Bottleneck, Customized), а так же параметры модели."
      ]
    },
    {
      "cell_type": "code",
      "metadata": {
        "id": "RK52URPDZ_b4",
        "colab_type": "code",
        "colab": {}
      },
      "source": [
        "class ResNet(nn.Module):\n",
        "\n",
        "    def __init__(self, block, layers, num_classes=1000, zero_init_residual=False,\n",
        "                 groups=1, width_per_group=64, replace_stride_with_dilation=None,\n",
        "                 norm_layer=None):\n",
        "        super(ResNet, self).__init__()\n",
        "        if norm_layer is None:\n",
        "            norm_layer = nn.BatchNorm2d\n",
        "        self._norm_layer = norm_layer\n",
        "\n",
        "        self.inplanes = 64\n",
        "        self.dilation = 1\n",
        "        if replace_stride_with_dilation is None:\n",
        "            # each element in the tuple indicates if we should replace\n",
        "            # the 2x2 stride with a dilated convolution instead\n",
        "            replace_stride_with_dilation = [False, False, False]\n",
        "        if len(replace_stride_with_dilation) != 3:\n",
        "            raise ValueError(\"replace_stride_with_dilation should be None \"\n",
        "                             \"or a 3-element tuple, got {}\".format(replace_stride_with_dilation))\n",
        "        self.groups = groups\n",
        "        self.base_width = width_per_group\n",
        "        self.conv1 = nn.Conv2d(3, self.inplanes, kernel_size=7, stride=2, padding=3,\n",
        "                               bias=False)\n",
        "        self.bn1 = norm_layer(self.inplanes)\n",
        "        self.relu = nn.ReLU(inplace=True)\n",
        "        self.maxpool = nn.MaxPool2d(kernel_size=3, stride=2, padding=1)\n",
        "        self.layer1 = self._make_layer(block, 64, layers[0])\n",
        "        self.layer2 = self._make_layer(block, 128, layers[1], stride=2,\n",
        "                                       dilate=replace_stride_with_dilation[0])\n",
        "        self.layer3 = self._make_layer(block, 256, layers[2], stride=2,\n",
        "                                       dilate=replace_stride_with_dilation[1])\n",
        "        self.layer4 = self._make_layer(block, 512, layers[3], stride=2,\n",
        "                                       dilate=replace_stride_with_dilation[2])\n",
        "        self.avgpool = nn.AdaptiveAvgPool2d((1, 1))\n",
        "        self.fc = nn.Linear(512 * block.expansion, num_classes)\n",
        "\n",
        "        for m in self.modules():\n",
        "            if isinstance(m, nn.Conv2d):\n",
        "                nn.init.kaiming_normal_(m.weight, mode='fan_out', nonlinearity='relu')\n",
        "            elif isinstance(m, (nn.BatchNorm2d, nn.GroupNorm)):\n",
        "                nn.init.constant_(m.weight, 1)\n",
        "                nn.init.constant_(m.bias, 0)\n",
        "\n",
        "        # Zero-initialize the last BN in each residual branch,\n",
        "        # so that the residual branch starts with zeros, and each residual block behaves like an identity.\n",
        "        # This improves the model by 0.2~0.3% according to https://arxiv.org/abs/1706.02677\n",
        "        if zero_init_residual:\n",
        "            for m in self.modules():\n",
        "                if isinstance(m, Bottleneck):\n",
        "                    nn.init.constant_(m.bn3.weight, 0)\n",
        "                elif isinstance(m, BasicBlock):\n",
        "                    nn.init.constant_(m.bn2.weight, 0)\n",
        "\n",
        "    def _make_layer(self, block, planes, blocks, stride=1, dilate=False):\n",
        "        norm_layer = self._norm_layer\n",
        "        downsample = None\n",
        "        previous_dilation = self.dilation\n",
        "        if dilate:\n",
        "            self.dilation *= stride\n",
        "            stride = 1\n",
        "        if stride != 1 or self.inplanes != planes * block.expansion:\n",
        "            downsample = nn.Sequential(\n",
        "                conv1x1(self.inplanes, planes * block.expansion, stride),\n",
        "                norm_layer(planes * block.expansion),\n",
        "            )\n",
        "\n",
        "        layers = []\n",
        "        layers.append(block(self.inplanes, planes, stride, downsample, self.groups,\n",
        "                            self.base_width, previous_dilation, norm_layer))\n",
        "        self.inplanes = planes * block.expansion\n",
        "        for _ in range(1, blocks):\n",
        "            layers.append(block(self.inplanes, planes, groups=self.groups,\n",
        "                                base_width=self.base_width, dilation=self.dilation,\n",
        "                                norm_layer=norm_layer))\n",
        "\n",
        "        return nn.Sequential(*layers)\n",
        "\n",
        "    def forward(self, x):\n",
        "        x = self.conv1(x)\n",
        "        x = self.bn1(x)\n",
        "        x = self.relu(x)\n",
        "        x = self.maxpool(x)\n",
        "\n",
        "        x = self.layer1(x)\n",
        "        x = self.layer2(x)\n",
        "        x = self.layer3(x)\n",
        "        x = self.layer4(x)\n",
        "\n",
        "        x = self.avgpool(x)\n",
        "        x = torch.flatten(x, 1)\n",
        "        x = self.fc(x)\n",
        "\n",
        "        return x"
      ],
      "execution_count": 0,
      "outputs": []
    },
    {
      "cell_type": "markdown",
      "metadata": {
        "id": "tcOSHDR7adj8",
        "colab_type": "text"
      },
      "source": [
        "# Average Pooling,Max Pooling\n",
        "![alt text](https://www.researchgate.net/profile/Hanli_Wang2/publication/300020038/figure/fig2/AS:404961465782275@1473561745471/Toy-example-illustrating-the-drawbacks-of-max-pooling-and-average-pooling.png)"
      ]
    },
    {
      "cell_type": "code",
      "metadata": {
        "id": "mty6nFlFakDn",
        "colab_type": "code",
        "colab": {}
      },
      "source": [
        "def _resnet(arch, block, layers, pretrained, progress, **kwargs):\n",
        "    model = ResNet(block, layers, **kwargs)\n",
        "    if pretrained:\n",
        "        state_dict = load_state_dict_from_url(model_urls[arch],\n",
        "                                              progress=progress)\n",
        "        model.load_state_dict(state_dict)\n",
        "    return model"
      ],
      "execution_count": 0,
      "outputs": []
    },
    {
      "cell_type": "markdown",
      "metadata": {
        "id": "B8LGhKb7augQ",
        "colab_type": "text"
      },
      "source": [
        "Если предполагается использовать уже готовую предтренированную архитектуру необходимо:\n",
        "\n",
        "\n",
        "```\n",
        "import torch\n",
        "model = torch.hub.load('pytorch/vision', 'resnet18', pretrained=True)\n",
        "```\n",
        "\n",
        "\n",
        "\n",
        "\n"
      ]
    },
    {
      "cell_type": "markdown",
      "metadata": {
        "id": "IpiZy8dBa0Tr",
        "colab_type": "text"
      },
      "source": [
        "# ResNeXt\n",
        "Saining Xie, Ross Girshick, Piotr Dollár, Zhuowen Tu, Kaiming He (2016)\n",
        "\n",
        "У истоков данной модели стоят наработки Google и их Inception. После выхода ResNet, ребята из Google тоже решили протестировать данный принцип построения блоков и придумали InceptionResNet block-(b)\n",
        "![alt text](https://miro.medium.com/max/1335/1*cIm3uy7eNvEchxRbBeBScQ.png)\n",
        "Похожую идею паралельной многоступенчатой свертки применили и создатели ResNeXt-(a)"
      ]
    },
    {
      "cell_type": "markdown",
      "metadata": {
        "id": "Bkbs3ZXIbglr",
        "colab_type": "text"
      },
      "source": [
        "# Squeeze-and-Excitation ResNet\n",
        "Jie Hu ,Li Shen,Samuel Albanie,Gang Sun,Enhua Wu (2017)\n",
        "Данная архитектура обусловлена более сложным блоком \n",
        "![alt text](https://miro.medium.com/max/598/1*WNk-atKDUsZPvMddvYL01g.png)"
      ]
    },
    {
      "cell_type": "markdown",
      "metadata": {
        "id": "w-eqqcQsamCd",
        "colab_type": "text"
      },
      "source": [
        ""
      ]
    }
  ]
}