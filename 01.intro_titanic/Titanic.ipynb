{
 "cells": [
  {
   "cell_type": "code",
   "execution_count": 52,
   "metadata": {},
   "outputs": [
    {
     "name": "stdout",
     "output_type": "stream",
     "text": [
      "train shape: (891, 12), test shape (418, 11)\n"
     ]
    }
   ],
   "source": [
    "import pandas as pd\n",
    "\n",
    "train = pd.read_csv('titanic/input/train.csv')\n",
    "test = pd.read_csv('titanic/input/test.csv')\n",
    "\n",
    "print(f'train shape: {train.shape}, test shape {test.shape}')"
   ]
  },
  {
   "cell_type": "code",
   "execution_count": 53,
   "metadata": {},
   "outputs": [
    {
     "data": {
      "text/html": [
       "<div>\n",
       "<style scoped>\n",
       "    .dataframe tbody tr th:only-of-type {\n",
       "        vertical-align: middle;\n",
       "    }\n",
       "\n",
       "    .dataframe tbody tr th {\n",
       "        vertical-align: top;\n",
       "    }\n",
       "\n",
       "    .dataframe thead th {\n",
       "        text-align: right;\n",
       "    }\n",
       "</style>\n",
       "<table border=\"1\" class=\"dataframe\">\n",
       "  <thead>\n",
       "    <tr style=\"text-align: right;\">\n",
       "      <th></th>\n",
       "      <th>PassengerId</th>\n",
       "      <th>Survived</th>\n",
       "      <th>Pclass</th>\n",
       "      <th>Name</th>\n",
       "      <th>Sex</th>\n",
       "      <th>Age</th>\n",
       "      <th>SibSp</th>\n",
       "      <th>Parch</th>\n",
       "      <th>Ticket</th>\n",
       "      <th>Fare</th>\n",
       "      <th>Cabin</th>\n",
       "      <th>Embarked</th>\n",
       "    </tr>\n",
       "  </thead>\n",
       "  <tbody>\n",
       "    <tr>\n",
       "      <th>0</th>\n",
       "      <td>1</td>\n",
       "      <td>0</td>\n",
       "      <td>3</td>\n",
       "      <td>Braund, Mr. Owen Harris</td>\n",
       "      <td>male</td>\n",
       "      <td>22.0</td>\n",
       "      <td>1</td>\n",
       "      <td>0</td>\n",
       "      <td>A/5 21171</td>\n",
       "      <td>7.2500</td>\n",
       "      <td>NaN</td>\n",
       "      <td>S</td>\n",
       "    </tr>\n",
       "    <tr>\n",
       "      <th>1</th>\n",
       "      <td>2</td>\n",
       "      <td>1</td>\n",
       "      <td>1</td>\n",
       "      <td>Cumings, Mrs. John Bradley (Florence Briggs Th...</td>\n",
       "      <td>female</td>\n",
       "      <td>38.0</td>\n",
       "      <td>1</td>\n",
       "      <td>0</td>\n",
       "      <td>PC 17599</td>\n",
       "      <td>71.2833</td>\n",
       "      <td>C85</td>\n",
       "      <td>C</td>\n",
       "    </tr>\n",
       "    <tr>\n",
       "      <th>2</th>\n",
       "      <td>3</td>\n",
       "      <td>1</td>\n",
       "      <td>3</td>\n",
       "      <td>Heikkinen, Miss. Laina</td>\n",
       "      <td>female</td>\n",
       "      <td>26.0</td>\n",
       "      <td>0</td>\n",
       "      <td>0</td>\n",
       "      <td>STON/O2. 3101282</td>\n",
       "      <td>7.9250</td>\n",
       "      <td>NaN</td>\n",
       "      <td>S</td>\n",
       "    </tr>\n",
       "  </tbody>\n",
       "</table>\n",
       "</div>"
      ],
      "text/plain": [
       "   PassengerId  Survived  Pclass  \\\n",
       "0            1         0       3   \n",
       "1            2         1       1   \n",
       "2            3         1       3   \n",
       "\n",
       "                                                Name     Sex   Age  SibSp  \\\n",
       "0                            Braund, Mr. Owen Harris    male  22.0      1   \n",
       "1  Cumings, Mrs. John Bradley (Florence Briggs Th...  female  38.0      1   \n",
       "2                             Heikkinen, Miss. Laina  female  26.0      0   \n",
       "\n",
       "   Parch            Ticket     Fare Cabin Embarked  \n",
       "0      0         A/5 21171   7.2500   NaN        S  \n",
       "1      0          PC 17599  71.2833   C85        C  \n",
       "2      0  STON/O2. 3101282   7.9250   NaN        S  "
      ]
     },
     "execution_count": 53,
     "metadata": {},
     "output_type": "execute_result"
    }
   ],
   "source": [
    "train.head(3)"
   ]
  },
  {
   "cell_type": "code",
   "execution_count": 55,
   "metadata": {},
   "outputs": [
    {
     "data": {
      "text/html": [
       "<div>\n",
       "<style scoped>\n",
       "    .dataframe tbody tr th:only-of-type {\n",
       "        vertical-align: middle;\n",
       "    }\n",
       "\n",
       "    .dataframe tbody tr th {\n",
       "        vertical-align: top;\n",
       "    }\n",
       "\n",
       "    .dataframe thead th {\n",
       "        text-align: right;\n",
       "    }\n",
       "</style>\n",
       "<table border=\"1\" class=\"dataframe\">\n",
       "  <thead>\n",
       "    <tr style=\"text-align: right;\">\n",
       "      <th></th>\n",
       "      <th>train</th>\n",
       "      <th>%</th>\n",
       "      <th>test</th>\n",
       "      <th>%</th>\n",
       "    </tr>\n",
       "  </thead>\n",
       "  <tbody>\n",
       "    <tr>\n",
       "      <th>male</th>\n",
       "      <td>577</td>\n",
       "      <td>64.758698</td>\n",
       "      <td>266</td>\n",
       "      <td>63.636364</td>\n",
       "    </tr>\n",
       "    <tr>\n",
       "      <th>female</th>\n",
       "      <td>314</td>\n",
       "      <td>35.241302</td>\n",
       "      <td>152</td>\n",
       "      <td>36.363636</td>\n",
       "    </tr>\n",
       "  </tbody>\n",
       "</table>\n",
       "</div>"
      ],
      "text/plain": [
       "        train          %  test          %\n",
       "male      577  64.758698   266  63.636364\n",
       "female    314  35.241302   152  36.363636"
      ]
     },
     "execution_count": 55,
     "metadata": {},
     "output_type": "execute_result"
    }
   ],
   "source": [
    "# col = 'Embarked'\n",
    "col = 'Sex'\n",
    "pd.concat([train[col].value_counts(), train[col].value_counts() / train.shape[0] * 100, \n",
    "           test[col].value_counts(), test[col].value_counts() / test.shape[0]  * 100],\n",
    "          axis=1, keys=['train', '%', 'test', '%'], sort=False)"
   ]
  },
  {
   "cell_type": "code",
   "execution_count": 56,
   "metadata": {},
   "outputs": [
    {
     "name": "stdout",
     "output_type": "stream",
     "text": [
      "NaN in the data sets\n",
      "          Train Dataset  Test Dataset\n",
      "Age                 177          86.0\n",
      "Fare                  0           1.0\n",
      "Cabin               687         327.0\n",
      "Embarked              2           0.0\n"
     ]
    }
   ],
   "source": [
    "print('NaN in the data sets')\n",
    "nans = pd.concat([train.isnull().sum(), test.isnull().sum()], \n",
    "                 axis=1, keys=['Train Dataset', 'Test Dataset'], sort=False)\n",
    "print(nans[nans.sum(axis=1) > 0])"
   ]
  },
  {
   "cell_type": "code",
   "execution_count": 58,
   "metadata": {},
   "outputs": [
    {
     "name": "stdout",
     "output_type": "stream",
     "text": [
      "   Pclass  Survived\n",
      "0       1  0.629630\n",
      "1       2  0.472826\n",
      "2       3  0.242363\n"
     ]
    }
   ],
   "source": [
    "# one feature vs target\n",
    "# col = 'Sex'\n",
    "col = 'Pclass'\n",
    "target = 'Survived'\n",
    "print(train[[col, target]].groupby([col], as_index=False).mean().sort_values(by=col))"
   ]
  },
  {
   "cell_type": "code",
   "execution_count": 59,
   "metadata": {},
   "outputs": [],
   "source": [
    "def fill_na_by_median(df, col):\n",
    "    df[col].fillna(df[col].median(), inplace=True)"
   ]
  },
  {
   "cell_type": "code",
   "execution_count": 60,
   "metadata": {},
   "outputs": [],
   "source": [
    "full_dataset = [train, test]\n",
    "for df in full_dataset:\n",
    "    fill_na_by_median(df, 'Age')\n",
    "    fill_na_by_median(df, 'Fare')\n",
    "    \n",
    "    df['Embarked'].fillna('S', inplace=True)\n",
    "    df['Embarked'] = df['Embarked'].map({'S': 0, 'C': 1, 'Q': 2}).astype(int)\n",
    "    df['Sex'] = df['Sex'].map({'male': 1, 'female': 2}).astype(int)    "
   ]
  },
  {
   "cell_type": "code",
   "execution_count": 61,
   "metadata": {},
   "outputs": [],
   "source": [
    "for data in full_dataset:\n",
    "    # classify Cabin by fare\n",
    "    data['Cabin'] = data['Cabin'].fillna('X')\n",
    "    data['Cabin'] = data['Cabin'].apply(lambda x: str(x)[0])\n",
    "    data['Cabin'] = data['Cabin'].replace(['A', 'D', 'E', 'T'], 'M')\n",
    "    data['Cabin'] = data['Cabin'].replace(['B', 'C'], 'H')\n",
    "    data['Cabin'] = data['Cabin'].replace(['F', 'G'], 'L')\n",
    "    data['Cabin'] = data['Cabin'].map({'X': 0, 'L': 1, 'M': 2, 'H': 3}).astype(int)"
   ]
  },
  {
   "cell_type": "code",
   "execution_count": 65,
   "metadata": {},
   "outputs": [
    {
     "data": {
      "text/html": [
       "<div>\n",
       "<style scoped>\n",
       "    .dataframe tbody tr th:only-of-type {\n",
       "        vertical-align: middle;\n",
       "    }\n",
       "\n",
       "    .dataframe tbody tr th {\n",
       "        vertical-align: top;\n",
       "    }\n",
       "\n",
       "    .dataframe thead th {\n",
       "        text-align: right;\n",
       "    }\n",
       "</style>\n",
       "<table border=\"1\" class=\"dataframe\">\n",
       "  <thead>\n",
       "    <tr style=\"text-align: right;\">\n",
       "      <th></th>\n",
       "      <th>PassengerId</th>\n",
       "      <th>Survived</th>\n",
       "      <th>Pclass</th>\n",
       "      <th>Sex</th>\n",
       "      <th>Age</th>\n",
       "      <th>SibSp</th>\n",
       "      <th>Parch</th>\n",
       "      <th>Fare</th>\n",
       "      <th>Cabin</th>\n",
       "      <th>Embarked</th>\n",
       "    </tr>\n",
       "  </thead>\n",
       "  <tbody>\n",
       "    <tr>\n",
       "      <th>0</th>\n",
       "      <td>1</td>\n",
       "      <td>0</td>\n",
       "      <td>3</td>\n",
       "      <td>1</td>\n",
       "      <td>22.0</td>\n",
       "      <td>1</td>\n",
       "      <td>0</td>\n",
       "      <td>7.2500</td>\n",
       "      <td>0</td>\n",
       "      <td>0</td>\n",
       "    </tr>\n",
       "    <tr>\n",
       "      <th>1</th>\n",
       "      <td>2</td>\n",
       "      <td>1</td>\n",
       "      <td>1</td>\n",
       "      <td>2</td>\n",
       "      <td>38.0</td>\n",
       "      <td>1</td>\n",
       "      <td>0</td>\n",
       "      <td>71.2833</td>\n",
       "      <td>3</td>\n",
       "      <td>1</td>\n",
       "    </tr>\n",
       "    <tr>\n",
       "      <th>2</th>\n",
       "      <td>3</td>\n",
       "      <td>1</td>\n",
       "      <td>3</td>\n",
       "      <td>2</td>\n",
       "      <td>26.0</td>\n",
       "      <td>0</td>\n",
       "      <td>0</td>\n",
       "      <td>7.9250</td>\n",
       "      <td>0</td>\n",
       "      <td>0</td>\n",
       "    </tr>\n",
       "  </tbody>\n",
       "</table>\n",
       "</div>"
      ],
      "text/plain": [
       "   PassengerId  Survived  Pclass  Sex   Age  SibSp  Parch     Fare  Cabin  \\\n",
       "0            1         0       3    1  22.0      1      0   7.2500      0   \n",
       "1            2         1       1    2  38.0      1      0  71.2833      3   \n",
       "2            3         1       3    2  26.0      0      0   7.9250      0   \n",
       "\n",
       "   Embarked  \n",
       "0         0  \n",
       "1         1  \n",
       "2         0  "
      ]
     },
     "execution_count": 65,
     "metadata": {},
     "output_type": "execute_result"
    }
   ],
   "source": [
    "train.head(3)"
   ]
  },
  {
   "cell_type": "code",
   "execution_count": 64,
   "metadata": {},
   "outputs": [],
   "source": [
    "for df in full_dataset:\n",
    "    df.drop(['Name', 'Ticket'], axis=1, inplace=True)"
   ]
  },
  {
   "cell_type": "code",
   "execution_count": 66,
   "metadata": {},
   "outputs": [],
   "source": [
    "y = train['Survived']\n",
    "X = train.drop('Survived', axis=1)"
   ]
  },
  {
   "cell_type": "code",
   "execution_count": 67,
   "metadata": {},
   "outputs": [],
   "source": [
    "from sklearn.model_selection import train_test_split\n",
    "\n",
    "X_train, X_test, y_train, y_test = train_test_split(X, y, test_size=0.2, random_state=2019)"
   ]
  },
  {
   "cell_type": "markdown",
   "metadata": {},
   "source": [
    "### Logistic regression"
   ]
  },
  {
   "cell_type": "code",
   "execution_count": 68,
   "metadata": {},
   "outputs": [
    {
     "name": "stderr",
     "output_type": "stream",
     "text": [
      "/usr/lib64/python3.6/site-packages/sklearn/preprocessing/data.py:645: DataConversionWarning: Data with input dtype int64, float64 were all converted to float64 by StandardScaler.\n",
      "  return self.partial_fit(X, y)\n",
      "/usr/lib64/python3.6/site-packages/sklearn/base.py:464: DataConversionWarning: Data with input dtype int64, float64 were all converted to float64 by StandardScaler.\n",
      "  return self.fit(X, **fit_params).transform(X)\n",
      "/cm/shared/apps/jupyterhub/0.8.1/lib/python3.6/site-packages/ipykernel_launcher.py:5: DataConversionWarning: Data with input dtype int64, float64 were all converted to float64 by StandardScaler.\n",
      "  \"\"\"\n"
     ]
    }
   ],
   "source": [
    "# Scaling the train and test feature set \n",
    "from sklearn.preprocessing import StandardScaler\n",
    "scaler = StandardScaler()\n",
    "X_train_scaled = scaler.fit_transform(X_train)\n",
    "X_test_scaled = scaler.transform(X_test)"
   ]
  },
  {
   "cell_type": "code",
   "execution_count": 69,
   "metadata": {},
   "outputs": [],
   "source": [
    "from sklearn.linear_model import LogisticRegression\n",
    "\n",
    "lr = LogisticRegression(random_state=21, solver='sag', \n",
    "                        max_iter=1000).fit(X_train_scaled, y_train)"
   ]
  },
  {
   "cell_type": "code",
   "execution_count": 70,
   "metadata": {},
   "outputs": [],
   "source": [
    "y_pred = lr.predict(X_test_scaled)"
   ]
  },
  {
   "cell_type": "code",
   "execution_count": 72,
   "metadata": {},
   "outputs": [
    {
     "name": "stdout",
     "output_type": "stream",
     "text": [
      "accuracy_lr = 0.8044692737430168\n"
     ]
    }
   ],
   "source": [
    "from sklearn.metrics import accuracy_score \n",
    "\n",
    "print(f'accuracy_lr = {accuracy_score(y_test, y_pred)}')"
   ]
  },
  {
   "cell_type": "markdown",
   "metadata": {},
   "source": [
    "### Catboost classifier"
   ]
  },
  {
   "cell_type": "code",
   "execution_count": 73,
   "metadata": {},
   "outputs": [
    {
     "name": "stdout",
     "output_type": "stream",
     "text": [
      "Learning rate set to 0.21958\n",
      "0:\tlearn: 0.5697846\ttotal: 32ms\tremaining: 1.57s\n",
      "1:\tlearn: 0.4999845\ttotal: 68.1ms\tremaining: 1.63s\n",
      "2:\tlearn: 0.4567798\ttotal: 105ms\tremaining: 1.65s\n",
      "3:\tlearn: 0.4376023\ttotal: 147ms\tremaining: 1.69s\n",
      "4:\tlearn: 0.4178267\ttotal: 190ms\tremaining: 1.71s\n",
      "5:\tlearn: 0.4141956\ttotal: 215ms\tremaining: 1.58s\n",
      "6:\tlearn: 0.4038733\ttotal: 260ms\tremaining: 1.59s\n",
      "7:\tlearn: 0.3929991\ttotal: 304ms\tremaining: 1.6s\n",
      "8:\tlearn: 0.3800018\ttotal: 351ms\tremaining: 1.6s\n",
      "9:\tlearn: 0.3745324\ttotal: 397ms\tremaining: 1.59s\n",
      "10:\tlearn: 0.3712383\ttotal: 469ms\tremaining: 1.66s\n",
      "11:\tlearn: 0.3661363\ttotal: 520ms\tremaining: 1.65s\n",
      "12:\tlearn: 0.3637543\ttotal: 596ms\tremaining: 1.7s\n",
      "13:\tlearn: 0.3587069\ttotal: 643ms\tremaining: 1.65s\n",
      "14:\tlearn: 0.3520576\ttotal: 701ms\tremaining: 1.63s\n",
      "15:\tlearn: 0.3482251\ttotal: 748ms\tremaining: 1.59s\n",
      "16:\tlearn: 0.3471897\ttotal: 769ms\tremaining: 1.49s\n",
      "17:\tlearn: 0.3453556\ttotal: 863ms\tremaining: 1.53s\n",
      "18:\tlearn: 0.3418082\ttotal: 906ms\tremaining: 1.48s\n",
      "19:\tlearn: 0.3411148\ttotal: 979ms\tremaining: 1.47s\n",
      "20:\tlearn: 0.3382713\ttotal: 1.03s\tremaining: 1.43s\n",
      "21:\tlearn: 0.3376165\ttotal: 1.07s\tremaining: 1.36s\n",
      "22:\tlearn: 0.3346572\ttotal: 1.1s\tremaining: 1.29s\n",
      "23:\tlearn: 0.3280932\ttotal: 1.19s\tremaining: 1.29s\n",
      "24:\tlearn: 0.3280898\ttotal: 1.21s\tremaining: 1.21s\n",
      "25:\tlearn: 0.3246117\ttotal: 1.23s\tremaining: 1.14s\n",
      "26:\tlearn: 0.3189973\ttotal: 1.26s\tremaining: 1.07s\n",
      "27:\tlearn: 0.3187506\ttotal: 1.32s\tremaining: 1.04s\n",
      "28:\tlearn: 0.3166029\ttotal: 1.36s\tremaining: 986ms\n",
      "29:\tlearn: 0.3158982\ttotal: 1.4s\tremaining: 931ms\n",
      "30:\tlearn: 0.3133622\ttotal: 1.45s\tremaining: 887ms\n",
      "31:\tlearn: 0.3116147\ttotal: 1.48s\tremaining: 830ms\n",
      "32:\tlearn: 0.3090013\ttotal: 1.52s\tremaining: 782ms\n",
      "33:\tlearn: 0.3076817\ttotal: 1.57s\tremaining: 737ms\n",
      "34:\tlearn: 0.3066077\ttotal: 1.62s\tremaining: 695ms\n",
      "35:\tlearn: 0.3049686\ttotal: 1.65s\tremaining: 641ms\n",
      "36:\tlearn: 0.3031774\ttotal: 1.69s\tremaining: 594ms\n",
      "37:\tlearn: 0.2988023\ttotal: 1.73s\tremaining: 547ms\n",
      "38:\tlearn: 0.2949222\ttotal: 1.78s\tremaining: 502ms\n",
      "39:\tlearn: 0.2920107\ttotal: 1.82s\tremaining: 455ms\n",
      "40:\tlearn: 0.2919679\ttotal: 1.85s\tremaining: 407ms\n",
      "41:\tlearn: 0.2919323\ttotal: 1.89s\tremaining: 359ms\n",
      "42:\tlearn: 0.2899657\ttotal: 1.93s\tremaining: 314ms\n",
      "43:\tlearn: 0.2878377\ttotal: 1.97s\tremaining: 269ms\n",
      "44:\tlearn: 0.2877833\ttotal: 1.99s\tremaining: 222ms\n",
      "45:\tlearn: 0.2862442\ttotal: 2.02s\tremaining: 176ms\n",
      "46:\tlearn: 0.2847543\ttotal: 2.07s\tremaining: 132ms\n",
      "47:\tlearn: 0.2834397\ttotal: 2.1s\tremaining: 87.6ms\n",
      "48:\tlearn: 0.2821989\ttotal: 2.15s\tremaining: 43.9ms\n",
      "49:\tlearn: 0.2804224\ttotal: 2.19s\tremaining: 0us\n"
     ]
    },
    {
     "data": {
      "text/plain": [
       "<catboost.core.CatBoostClassifier at 0x2aab4a39f518>"
      ]
     },
     "execution_count": 73,
     "metadata": {},
     "output_type": "execute_result"
    }
   ],
   "source": [
    "from catboost import Pool, CatBoostClassifier\n",
    "\n",
    "train_dataset = Pool(data=X_train, label=y_train)\n",
    "eval_dataset = Pool(data=X_test, label=y_test)\n",
    "\n",
    "# Initialize CatBoostClassifier\n",
    "model = CatBoostClassifier(iterations=50)\n",
    "# Fit model\n",
    "model.fit(train_dataset)\n",
    "# Get predicted classes\n",
    "preds_class = model.predict(eval_dataset)\n",
    "# Get predicted probabilities for each class\n",
    "preds_proba = model.predict_proba(eval_dataset)\n",
    "# Get predicted RawFormulaVal\n",
    "preds_raw = model.predict(eval_dataset, \n",
    "                          prediction_type='RawFormulaVal')"
   ]
  },
  {
   "cell_type": "code",
   "execution_count": 74,
   "metadata": {},
   "outputs": [
    {
     "name": "stdout",
     "output_type": "stream",
     "text": [
      "accuracy_cb = 0.8268156424581006\n"
     ]
    }
   ],
   "source": [
    "print(f'accuracy_cb = {accuracy_score(y_test, preds_class)}')"
   ]
  },
  {
   "cell_type": "code",
   "execution_count": 75,
   "metadata": {},
   "outputs": [
    {
     "data": {
      "text/plain": [
       "[('Sex', 33.74447803439284),\n",
       " ('Age', 16.094310806895674),\n",
       " ('Fare', 12.383378733909316),\n",
       " ('PassengerId', 10.709370006435913),\n",
       " ('Pclass', 10.334615622135011),\n",
       " ('SibSp', 6.3898515341290025),\n",
       " ('Cabin', 5.277053018430991),\n",
       " ('Embarked', 2.935733809815777),\n",
       " ('Parch', 2.131208433855478)]"
      ]
     },
     "execution_count": 75,
     "metadata": {},
     "output_type": "execute_result"
    }
   ],
   "source": [
    "feature_importances = list(zip(model.feature_names_, model.feature_importances_))\n",
    "feature_importances.sort(key = lambda x: -x[1])\n",
    "feature_importances"
   ]
  },
  {
   "cell_type": "code",
   "execution_count": 76,
   "metadata": {},
   "outputs": [],
   "source": [
    "y_pred = model.predict(test)\n",
    "submission = pd.DataFrame({\n",
    "        'PassengerId': test['PassengerId'],\n",
    "        'Survived': y_pred.astype('int')\n",
    "    })\n",
    "submission.to_csv('titanic_cb.csv', index=False)"
   ]
  },
  {
   "cell_type": "code",
   "execution_count": 78,
   "metadata": {},
   "outputs": [],
   "source": [
    "y_pred_lr = lr.predict(test)\n",
    "submission = pd.DataFrame({\n",
    "        'PassengerId': test['PassengerId'],\n",
    "        'Survived': y_pred_lr.astype('int')\n",
    "    })\n",
    "submission.to_csv('titanic_lr.csv', index=False)"
   ]
  },
  {
   "cell_type": "code",
   "execution_count": null,
   "metadata": {},
   "outputs": [],
   "source": [
    "!kaggle competitions submit -c titanic -f titanic_lr.csv -m \"Logistic regression base\""
   ]
  }
 ],
 "metadata": {
  "kernelspec": {
   "display_name": "Python 3",
   "language": "python",
   "name": "python3"
  },
  "language_info": {
   "codemirror_mode": {
    "name": "ipython",
    "version": 3
   },
   "file_extension": ".py",
   "mimetype": "text/x-python",
   "name": "python",
   "nbconvert_exporter": "python",
   "pygments_lexer": "ipython3",
   "version": "3.6.3"
  }
 },
 "nbformat": 4,
 "nbformat_minor": 2
}
